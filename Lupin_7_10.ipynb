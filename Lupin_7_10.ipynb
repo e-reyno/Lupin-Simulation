{
 "cells": [
  {
   "cell_type": "code",
   "execution_count": 1,
   "id": "c3cd690c-13c9-4a0a-9212-2157afd24f52",
   "metadata": {},
   "outputs": [],
   "source": [
    "import openmc\n",
    "import matplotlib.pyplot as plt\n",
    "import numpy as np\n",
    "import openmc_source_plotter\n",
    "import neutronics_material_maker as nmm\n",
    "import openmc_source_plotter"
   ]
  },
  {
   "cell_type": "code",
   "execution_count": 10,
   "id": "4551ada3-1451-471b-bac7-0fca0b868f0d",
   "metadata": {},
   "outputs": [
    {
     "name": "stdout",
     "output_type": "stream",
     "text": [
      "env: OPENMC_CROSS_SECTIONS=cross_sections.xml\n"
     ]
    }
   ],
   "source": [
    "%env OPENMC_CROSS_SECTIONS cross_sections.xml"
   ]
  },
  {
   "cell_type": "code",
   "execution_count": 45,
   "id": "0317a2f3-1648-4dbc-829c-534809328722",
   "metadata": {},
   "outputs": [],
   "source": [
    "#Lupin materials\n",
    "\n",
    "#lead casing\n",
    "lead = openmc.Material(name='lead')\n",
    "lead.add_element('Pb', 1, 'ao')\n",
    "#aluminium shell\n",
    "al = openmc.Material(name='aluminium')\n",
    "al.add_element('Al', 1, 'ao')\n",
    "al.add_s_alpha_beta(\"Al27\")\n",
    "#cadmium \n",
    "cadmium = openmc.Material(name='cadmium')\n",
    "cadmium.add_element('Cd', 1, 'ao')\n",
    "#BF3\n",
    "bf3 = nmm.Material.from_library('Boron Fluoride (BF3)', pressure=26664).openmc_material\n",
    "#polyethylene\n",
    "polyethylene = openmc.Material(name='polyethylene')\n",
    "polyethylene.add_elements_from_formula('C2H4')\n",
    "polyethylene.set_density('g/cm3',0.93)\n",
    "\n",
    "polyethylene.add_s_alpha_beta('c_H_in_CH2')\n",
    "\n",
    "\n",
    "materials = openmc.Materials([lead, al, cadmium, bf3, polyethylene])\n",
    "materials.export_to_xml()"
   ]
  },
  {
   "cell_type": "code",
   "execution_count": 3,
   "id": "ea7ad867-0070-4eeb-8043-62539ddaad38",
   "metadata": {},
   "outputs": [],
   "source": [
    "#geometry dimensions\n",
    "cylinder_radius = 0.054\n",
    "detector_radius = 0.02\n",
    "outer_cylinder_radius = 0.125\n",
    "lead_thickness = 0.0015\n",
    "shielding_thickness = 0.0015\n",
    "\n",
    "lead_height = 0.141\n",
    "b_detector_height = 0.047\n",
    "cylinder_height = 0.297\n",
    "big_cd_height = 0.05\n",
    "small_cd_height = 0.025\n",
    "\n",
    "cd_thickness = 0.0015\n",
    "cd_gap = 0.02425"
   ]
  },
  {
   "cell_type": "code",
   "execution_count": 4,
   "id": "14095ead-c1c0-42e9-b9c3-701aba73de57",
   "metadata": {},
   "outputs": [
    {
     "data": {
      "image/png": "[encoded data removed]",
      "text/plain": [
       "<Figure size 258.065x259.74 with 1 Axes>"
      ]
     },
     "metadata": {},
     "output_type": "display_data"
    }
   ],
   "source": [
    "#geometry model\n",
    "\n",
    "detector = openmc.ZCylinder(r=detector_radius)\n",
    "shielding = openmc.ZCylinder(r=detector_radius + shielding_thickness)\n",
    "inner_cylinder = openmc.ZCylinder(r=cylinder_radius)\n",
    "lead_plate = openmc.ZCylinder(r=cylinder_radius + lead_thickness)\n",
    "cd_cylinder = openmc.ZCylinder(r=cylinder_radius - (cd_thickness))\n",
    "outer_cylinder = openmc.ZCylinder(r=outer_cylinder_radius)\n",
    "source_sphere = openmc.Sphere(r=0.5)\n",
    "outer_void = openmc.Sphere(r=0.55, boundary_type='vacuum')\n",
    "\n",
    "top_cylinder = openmc.ZPlane(z0=0.5*cylinder_height)\n",
    "bottom_cylinder = openmc.ZPlane(z0=-0.5*cylinder_height)\n",
    "bottom_detector = openmc.ZPlane(z0=-0.5*cylinder_height + b_detector_height)\n",
    "bottom_shielding = openmc.ZPlane(z0=-0.5*cylinder_height + b_detector_height-shielding_thickness)\n",
    "top_lead = openmc.ZPlane(z0=0.5*lead_height)\n",
    "bottom_lead = openmc.ZPlane(z0=-0.5*lead_height)\n",
    "top_wall_cylinder = openmc.ZPlane(z0=0.5*cylinder_height+0.001)\n",
    "\n",
    "cd_cylinder_region = +cd_cylinder & -inner_cylinder \n",
    "cd_bottom_1 = openmc.ZPlane(0.5*cylinder_height-big_cd_height)\n",
    "cd_top_2 = openmc.ZPlane(0.5*cylinder_height-big_cd_height-cd_gap)\n",
    "cd_bottom_2 = openmc.ZPlane(0.5*cylinder_height-big_cd_height-cd_gap-small_cd_height)\n",
    "cd_top_3 = openmc.ZPlane(0.5*cylinder_height-big_cd_height-cd_gap-small_cd_height-cd_gap)\n",
    "cd_bottom_3 = openmc.ZPlane(0.5*cylinder_height-big_cd_height-cd_gap-small_cd_height-cd_gap-big_cd_height)\n",
    "cd_top_4 = openmc.ZPlane(0.5*-cylinder_height+big_cd_height+cd_gap+small_cd_height)\n",
    "cd_bottom_4 = openmc.ZPlane(0.5*-cylinder_height+big_cd_height+cd_gap)\n",
    "cd_top_5 = openmc.ZPlane(0.5*-cylinder_height+big_cd_height)\n",
    "\n",
    "cd_1 = cd_cylinder_region & -top_cylinder & +cd_bottom_1\n",
    "cd_2 = cd_cylinder_region & -cd_top_2 & +cd_bottom_2\n",
    "cd_3 = cd_cylinder_region & -cd_top_3 & +cd_bottom_3\n",
    "cd_4 = cd_cylinder_region & -cd_top_4 & +cd_bottom_4\n",
    "cd_5 = cd_cylinder_region & -cd_top_5 & +bottom_cylinder\n",
    "cd_region = cd_1 | cd_2 | cd_3 | cd_4 | cd_5\n",
    "\n",
    "detector_region = -detector & -top_cylinder & +bottom_detector\n",
    "shielding_region = (-shielding & -top_cylinder & +bottom_shielding & +detector) | ( -detector & +bottom_shielding & -bottom_detector)\n",
    "\n",
    "inner_polyethylene_region = ((-inner_cylinder & + shielding & -top_cylinder & +bottom_cylinder) | (-shielding & -bottom_shielding & +bottom_cylinder)) & ~cd_region\n",
    "\n",
    "lead_region = -lead_plate & -top_lead & +bottom_lead & + inner_cylinder\n",
    "outer_polyethylene_region = (-outer_cylinder & -top_cylinder & +bottom_cylinder & ~lead_region & +inner_cylinder ) | (-top_wall_cylinder & +top_cylinder & - outer_cylinder)\n",
    "sphere_region = (-source_sphere & +outer_cylinder) | (+top_wall_cylinder & -source_sphere) | (-bottom_cylinder & -source_sphere)\n",
    "outer_void_region = +source_sphere & -outer_void\n",
    "\n",
    "detector_cell = openmc.Cell(region=detector_region, fill=bf3)\n",
    "shielding_cell = openmc.Cell(region=shielding_region, fill=al)\n",
    "inner_polyethylene_cell = openmc.Cell(region=inner_polyethylene_region, fill=polyethylene)\n",
    "lead_cell = openmc.Cell(region=lead_region, fill=lead)\n",
    "cd_cell = openmc.Cell(region =cd_region, fill = cadmium)\n",
    "outer_polyethylene_cell = openmc.Cell(region=outer_polyethylene_region, fill=polyethylene)\n",
    "source_cell = openmc.Cell(region=sphere_region)\n",
    "outer_void_cell = openmc.Cell(region=outer_void_region)\n",
    "\n",
    "universe = openmc.universe = openmc.Universe(cells=[detector_cell, shielding_cell, inner_polyethylene_cell, lead_cell, cd_cell, outer_polyethylene_cell, source_cell, outer_void_cell])\n",
    "\n",
    "\n",
    "x,y = 0.2,0.2\n",
    "color_assignment = {detector_cell : 'blue',\n",
    "                    shielding_cell : 'red',\n",
    "                    inner_polyethylene_cell : 'green',\n",
    "                    cd_cell : 'orange',\n",
    "                    lead_cell : 'grey',\n",
    "                    outer_polyethylene_cell :'limegreen',\n",
    "                   source_cell : 'black'}\n",
    "plt.show(universe.plot(width=(x, y), basis='xz',  colors=color_assignment))\n",
    "#plt.show(universe.plot(width=(x, y), basis='xy',  colors=color_assignment))\n",
    "#plt.show(universe.plot(width=(x, y), basis='yz',  colors=color_assignment))\n",
    "\n",
    "geometry = openmc.Geometry(universe)\n",
    "geometry.export_to_xml()"
   ]
  },
  {
   "cell_type": "code",
   "execution_count": 5,
   "id": "8467ebeb-6ea4-4866-ac97-861f04d1a4b3",
   "metadata": {},
   "outputs": [],
   "source": [
    "#now create the source\n",
    "#spherical source enclosing the detector\n",
    "def sett_func(source_energy):\n",
    "    \n",
    "    sett = openmc.Settings()\n",
    "    sett.particles = 1000000\n",
    "    sett.batches = 5\n",
    "    sett.inactive = 0\n",
    "    sett.run_mode = 'fixed source'\n",
    "\n",
    "    sphere_source = openmc.Source()\n",
    "\n",
    "    phi_angle = openmc.stats.Uniform(a=0., b= 2*3.14159265359)\n",
    "    costheta_angle = openmc.stats.Uniform(a=-1, b=1)\n",
    "    source_distance = openmc.stats.Discrete([-0.5, 0.5], [0.5,0.5]) #m away from the lupin detector\n",
    "\n",
    "    sphere_source.particle = 'neutron'\n",
    "    sphere_source.energy = openmc.stats.Discrete([source_energy],[1])\n",
    "    sphere_source.angle = openmc.stats.Isotropic()\n",
    "    sphere_source.space = openmc.stats.SphericalIndependent(source_distance, costheta_angle, phi_angle, origin=(0.0, 0.0, 0.0))\n",
    "    sett.source = sphere_source\n",
    "    return sett"
   ]
  },
  {
   "cell_type": "code",
   "execution_count": 6,
   "id": "bf5ca046-5752-4dc8-9240-918d262faa0e",
   "metadata": {},
   "outputs": [],
   "source": [
    "#now create a tally to calibrate the detector\n",
    "def tallies_func():\n",
    "    tallies = openmc.Tallies()\n",
    "    neutron_particle_filter = openmc.ParticleFilter(['neutron'])\n",
    "    energies = np.logspace(-5, 7, 150)\n",
    "    energy_filter = openmc.EnergyFilter(energies)\n",
    "    detector_cell_filter = openmc.CellFilter(detector_cell)\n",
    "    detector_tally = openmc.Tally(name='detector_tally')\n",
    "    detector_tally.scores = ['flux']\n",
    "    detector_tally.filters = [detector_cell_filter, neutron_particle_filter, energy_filter]\n",
    "    tallies.append(detector_tally)\n",
    "    #inelastic (n,alpha) reaction between neutrons and 10B\n",
    "    detector_n_alpha_tally = openmc.Tally(name='detector_n_alpha_tally')\n",
    "    detector_n_alpha_tally.scores = ['(n,a)']\n",
    "    detector_n_alpha_tally.filters = [detector_cell_filter, neutron_particle_filter]\n",
    "    detector_n_alpha_tally.nuclides = [\"B10\"]\n",
    "    tallies.append(detector_n_alpha_tally)\n",
    "    return tallies\n",
    "tallies = tallies_func()"
   ]
  },
  {
   "cell_type": "code",
   "execution_count": 39,
   "id": "92be35f5-578d-4f02-970c-825ac5bf9655",
   "metadata": {},
   "outputs": [
    {
     "data": {
      "text/plain": [
       "array([1.00000000e-03, 8.11130831e-03, 6.57933225e-02, 5.33669923e-01,\n",
       "       4.32876128e+00, 3.51119173e+01, 2.84803587e+02, 2.31012970e+03,\n",
       "       1.87381742e+04, 1.51991108e+05, 1.23284674e+06, 1.00000000e+07])"
      ]
     },
     "execution_count": 39,
     "metadata": {},
     "output_type": "execute_result"
    }
   ],
   "source": [
    "energies = np.logspace(-3,7, 12)\n",
    "energies\n"
   ]
  },
  {
   "cell_type": "code",
   "execution_count": 46,
   "id": "4b615094-a519-4cc5-baa4-f62fbf829da6",
   "metadata": {},
   "outputs": [
    {
     "name": "stdout",
     "output_type": "stream",
     "text": [
      "rm: cannot remove '*.h5': No such file or directory\n",
      "                                %%%%%%%%%%%%%%%\n",
      "                           %%%%%%%%%%%%%%%%%%%%%%%%\n",
      "                        %%%%%%%%%%%%%%%%%%%%%%%%%%%%%%\n",
      "                      %%%%%%%%%%%%%%%%%%%%%%%%%%%%%%%%%%\n",
      "                    %%%%%%%%%%%%%%%%%%%%%%%%%%%%%%%%%%%%%%\n",
      "                   %%%%%%%%%%%%%%%%%%%%%%%%%%%%%%%%%%%%%%%%\n",
      "                                    %%%%%%%%%%%%%%%%%%%%%%%%\n",
      "                                     %%%%%%%%%%%%%%%%%%%%%%%%\n",
      "                 ###############      %%%%%%%%%%%%%%%%%%%%%%%%\n",
      "                ##################     %%%%%%%%%%%%%%%%%%%%%%%\n",
      "                ###################     %%%%%%%%%%%%%%%%%%%%%%%\n",
      "                ####################     %%%%%%%%%%%%%%%%%%%%%%\n",
      "                #####################     %%%%%%%%%%%%%%%%%%%%%\n",
      "                ######################     %%%%%%%%%%%%%%%%%%%%\n",
      "                #######################     %%%%%%%%%%%%%%%%%%\n",
      "                 #######################     %%%%%%%%%%%%%%%%%\n",
      "                 ######################     %%%%%%%%%%%%%%%%%\n",
      "                  ####################     %%%%%%%%%%%%%%%%%\n",
      "                    #################     %%%%%%%%%%%%%%%%%\n",
      "                     ###############     %%%%%%%%%%%%%%%%\n",
      "                       ############     %%%%%%%%%%%%%%%\n",
      "                          ########     %%%%%%%%%%%%%%\n",
      "                                      %%%%%%%%%%%\n",
      "\n",
      "                 | The OpenMC Monte Carlo Code\n",
      "       Copyright | 2011-2022 MIT, UChicago Argonne LLC, and contributors\n",
      "         License | https://docs.openmc.org/en/latest/license.html\n",
      "         Version | 0.13.1\n",
      "        Git SHA1 | 33bc948f4b855c037975f16d16091fe4ecd12de3\n",
      "       Date/Time | 2022-10-10 14:57:32\n",
      "   MPI Processes | 1\n",
      "  OpenMP Threads | 8\n",
      "\n",
      " Reading settings XML file...\n",
      " Reading cross sections XML file...\n",
      " Reading materials XML file...\n",
      " ERROR: Could not find thermal scattering data Al27 in cross_sections.xml file.\n",
      "application called MPI_Abort(MPI_COMM_WORLD, -1) - process 0\n",
      "[unset]: write_line error; fd=-1 buf=:cmd=abort exitcode=-1\n",
      ":\n",
      "system msg for write_line failure : Bad file descriptor\n"
     ]
    },
    {
     "ename": "RuntimeError",
     "evalue": "Could not find thermal scattering data Al27 in cross_sections.xml file. application called MPI_Abort(MPI_COMM_WORLD, -1) - process 0 [unset]: write_line error; fd=-1 buf=:cmd=abort exitcode=-1 : system msg for write_line failure : Bad file descriptor",
     "output_type": "error",
     "traceback": [
      "\u001b[0;31m---------------------------------------------------------------------------\u001b[0m",
      "\u001b[0;31mRuntimeError\u001b[0m                              Traceback (most recent call last)",
      "Cell \u001b[0;32mIn [46], line 10\u001b[0m\n\u001b[1;32m      8\u001b[0m \u001b[38;5;66;03m# remove old files and runs OpenMC\u001b[39;00m\n\u001b[1;32m      9\u001b[0m get_ipython()\u001b[38;5;241m.\u001b[39msystem(\u001b[38;5;124m'\u001b[39m\u001b[38;5;124mrm *.h5\u001b[39m\u001b[38;5;124m'\u001b[39m)\n\u001b[0;32m---> 10\u001b[0m results_filename \u001b[38;5;241m=\u001b[39m \u001b[43mmodel\u001b[49m\u001b[38;5;241;43m.\u001b[39;49m\u001b[43mrun\u001b[49m\u001b[43m(\u001b[49m\u001b[43m)\u001b[49m\n\u001b[1;32m     11\u001b[0m results \u001b[38;5;241m=\u001b[39m openmc\u001b[38;5;241m.\u001b[39mStatePoint(results_filename)\n\u001b[1;32m     12\u001b[0m n_alpha_tally \u001b[38;5;241m=\u001b[39m results\u001b[38;5;241m.\u001b[39mget_tally(name\u001b[38;5;241m=\u001b[39m\u001b[38;5;124m\"\u001b[39m\u001b[38;5;124mdetector_n_alpha_tally\u001b[39m\u001b[38;5;124m\"\u001b[39m)\n",
      "File \u001b[0;32m/usr/local/lib/python3.9/dist-packages/openmc/model/model.py:584\u001b[0m, in \u001b[0;36mModel.run\u001b[0;34m(self, particles, threads, geometry_debug, restart_file, tracks, output, cwd, openmc_exec, mpi_args, event_based)\u001b[0m\n\u001b[1;32m    581\u001b[0m \u001b[38;5;28;01melse\u001b[39;00m:\n\u001b[1;32m    582\u001b[0m     \u001b[38;5;66;03m# Then run via the command line\u001b[39;00m\n\u001b[1;32m    583\u001b[0m     \u001b[38;5;28mself\u001b[39m\u001b[38;5;241m.\u001b[39mexport_to_xml()\n\u001b[0;32m--> 584\u001b[0m     \u001b[43mopenmc\u001b[49m\u001b[38;5;241;43m.\u001b[39;49m\u001b[43mrun\u001b[49m\u001b[43m(\u001b[49m\u001b[43mparticles\u001b[49m\u001b[43m,\u001b[49m\u001b[43m \u001b[49m\u001b[43mthreads\u001b[49m\u001b[43m,\u001b[49m\u001b[43m \u001b[49m\u001b[43mgeometry_debug\u001b[49m\u001b[43m,\u001b[49m\u001b[43m \u001b[49m\u001b[43mrestart_file\u001b[49m\u001b[43m,\u001b[49m\n\u001b[1;32m    585\u001b[0m \u001b[43m               \u001b[49m\u001b[43mtracks\u001b[49m\u001b[43m,\u001b[49m\u001b[43m \u001b[49m\u001b[43moutput\u001b[49m\u001b[43m,\u001b[49m\u001b[43m \u001b[49m\u001b[43mPath\u001b[49m\u001b[43m(\u001b[49m\u001b[38;5;124;43m'\u001b[39;49m\u001b[38;5;124;43m.\u001b[39;49m\u001b[38;5;124;43m'\u001b[39;49m\u001b[43m)\u001b[49m\u001b[43m,\u001b[49m\u001b[43m \u001b[49m\u001b[43mopenmc_exec\u001b[49m\u001b[43m,\u001b[49m\u001b[43m \u001b[49m\u001b[43mmpi_args\u001b[49m\u001b[43m,\u001b[49m\n\u001b[1;32m    586\u001b[0m \u001b[43m               \u001b[49m\u001b[43mevent_based\u001b[49m\u001b[43m)\u001b[49m\n\u001b[1;32m    588\u001b[0m \u001b[38;5;66;03m# Get output directory and return the last statepoint written\u001b[39;00m\n\u001b[1;32m    589\u001b[0m \u001b[38;5;28;01mif\u001b[39;00m \u001b[38;5;28mself\u001b[39m\u001b[38;5;241m.\u001b[39msettings\u001b[38;5;241m.\u001b[39moutput \u001b[38;5;129;01mand\u001b[39;00m \u001b[38;5;124m'\u001b[39m\u001b[38;5;124mpath\u001b[39m\u001b[38;5;124m'\u001b[39m \u001b[38;5;129;01min\u001b[39;00m \u001b[38;5;28mself\u001b[39m\u001b[38;5;241m.\u001b[39msettings\u001b[38;5;241m.\u001b[39moutput:\n",
      "File \u001b[0;32m/usr/local/lib/python3.9/dist-packages/openmc/executor.py:276\u001b[0m, in \u001b[0;36mrun\u001b[0;34m(particles, threads, geometry_debug, restart_file, tracks, output, cwd, openmc_exec, mpi_args, event_based)\u001b[0m\n\u001b[1;32m    232\u001b[0m \u001b[38;5;124;03m\"\"\"Run an OpenMC simulation.\u001b[39;00m\n\u001b[1;32m    233\u001b[0m \n\u001b[1;32m    234\u001b[0m \u001b[38;5;124;03mParameters\u001b[39;00m\n\u001b[0;32m   (...)\u001b[0m\n\u001b[1;32m    268\u001b[0m \n\u001b[1;32m    269\u001b[0m \u001b[38;5;124;03m\"\"\"\u001b[39;00m\n\u001b[1;32m    271\u001b[0m args \u001b[38;5;241m=\u001b[39m _process_CLI_arguments(\n\u001b[1;32m    272\u001b[0m     volume\u001b[38;5;241m=\u001b[39m\u001b[38;5;28;01mFalse\u001b[39;00m, geometry_debug\u001b[38;5;241m=\u001b[39mgeometry_debug, particles\u001b[38;5;241m=\u001b[39mparticles,\n\u001b[1;32m    273\u001b[0m     restart_file\u001b[38;5;241m=\u001b[39mrestart_file, threads\u001b[38;5;241m=\u001b[39mthreads, tracks\u001b[38;5;241m=\u001b[39mtracks,\n\u001b[1;32m    274\u001b[0m     event_based\u001b[38;5;241m=\u001b[39mevent_based, openmc_exec\u001b[38;5;241m=\u001b[39mopenmc_exec, mpi_args\u001b[38;5;241m=\u001b[39mmpi_args)\n\u001b[0;32m--> 276\u001b[0m \u001b[43m_run\u001b[49m\u001b[43m(\u001b[49m\u001b[43margs\u001b[49m\u001b[43m,\u001b[49m\u001b[43m \u001b[49m\u001b[43moutput\u001b[49m\u001b[43m,\u001b[49m\u001b[43m \u001b[49m\u001b[43mcwd\u001b[49m\u001b[43m)\u001b[49m\n",
      "File \u001b[0;32m/usr/local/lib/python3.9/dist-packages/openmc/executor.py:116\u001b[0m, in \u001b[0;36m_run\u001b[0;34m(args, output, cwd)\u001b[0m\n\u001b[1;32m    113\u001b[0m     error_msg \u001b[38;5;241m=\u001b[39m \u001b[38;5;124m'\u001b[39m\u001b[38;5;124mOpenMC aborted unexpectedly.\u001b[39m\u001b[38;5;124m'\u001b[39m\n\u001b[1;32m    114\u001b[0m error_msg \u001b[38;5;241m=\u001b[39m \u001b[38;5;124m'\u001b[39m\u001b[38;5;124m \u001b[39m\u001b[38;5;124m'\u001b[39m\u001b[38;5;241m.\u001b[39mjoin(error_msg\u001b[38;5;241m.\u001b[39msplit())\n\u001b[0;32m--> 116\u001b[0m \u001b[38;5;28;01mraise\u001b[39;00m \u001b[38;5;167;01mRuntimeError\u001b[39;00m(error_msg)\n",
      "\u001b[0;31mRuntimeError\u001b[0m: Could not find thermal scattering data Al27 in cross_sections.xml file. application called MPI_Abort(MPI_COMM_WORLD, -1) - process 0 [unset]: write_line error; fd=-1 buf=:cmd=abort exitcode=-1 : system msg for write_line failure : Bad file descriptor"
     ]
    }
   ],
   "source": [
    "\n",
    "\n",
    "nalpha_mean = []\n",
    "nalpha_std = []\n",
    "fluxes_mean = []\n",
    "fluxes_std = []\n",
    "for energy in energies:\n",
    "    sett = sett_func(energy)\n",
    "    model = openmc.model.Model(geometry, materials, sett, tallies)\n",
    "    # remove old files and runs OpenMC\n",
    "    !rm *.h5\n",
    "    results_filename = model.run()\n",
    "    results = openmc.StatePoint(results_filename)\n",
    "    n_alpha_tally = results.get_tally(name=\"detector_n_alpha_tally\")\n",
    "    flux_tally = results.get_tally(name=\"detector_tally\")\n",
    "    nalpha_mean.append(n_alpha_tally.mean.ravel())\n",
    "    fluxes.append(flux_tally.mean.ravel())\n",
    "    nalpha_std.append(n_alpha_tally.std_dev.ravel())\n",
    "    fluxes_std.append(flux_tally.std_dev.ravel())"
   ]
  },
  {
   "cell_type": "code",
   "execution_count": 22,
   "id": "f8b3dfb0-e59f-4333-86b1-61f6f121dd1b",
   "metadata": {},
   "outputs": [
    {
     "name": "stdout",
     "output_type": "stream",
     "text": [
      "                                %%%%%%%%%%%%%%%\n",
      "                           %%%%%%%%%%%%%%%%%%%%%%%%\n",
      "                        %%%%%%%%%%%%%%%%%%%%%%%%%%%%%%\n",
      "                      %%%%%%%%%%%%%%%%%%%%%%%%%%%%%%%%%%\n",
      "                    %%%%%%%%%%%%%%%%%%%%%%%%%%%%%%%%%%%%%%\n",
      "                   %%%%%%%%%%%%%%%%%%%%%%%%%%%%%%%%%%%%%%%%\n",
      "                                    %%%%%%%%%%%%%%%%%%%%%%%%\n",
      "                                     %%%%%%%%%%%%%%%%%%%%%%%%\n",
      "                 ###############      %%%%%%%%%%%%%%%%%%%%%%%%\n",
      "                ##################     %%%%%%%%%%%%%%%%%%%%%%%\n",
      "                ###################     %%%%%%%%%%%%%%%%%%%%%%%\n",
      "                ####################     %%%%%%%%%%%%%%%%%%%%%%\n",
      "                #####################     %%%%%%%%%%%%%%%%%%%%%\n",
      "                ######################     %%%%%%%%%%%%%%%%%%%%\n",
      "                #######################     %%%%%%%%%%%%%%%%%%\n",
      "                 #######################     %%%%%%%%%%%%%%%%%\n",
      "                 ######################     %%%%%%%%%%%%%%%%%\n",
      "                  ####################     %%%%%%%%%%%%%%%%%\n",
      "                    #################     %%%%%%%%%%%%%%%%%\n",
      "                     ###############     %%%%%%%%%%%%%%%%\n",
      "                       ############     %%%%%%%%%%%%%%%\n",
      "                          ########     %%%%%%%%%%%%%%\n",
      "                                      %%%%%%%%%%%\n",
      "\n",
      "                 | The OpenMC Monte Carlo Code\n",
      "       Copyright | 2011-2022 MIT, UChicago Argonne LLC, and contributors\n",
      "         License | https://docs.openmc.org/en/latest/license.html\n",
      "         Version | 0.13.1\n",
      "        Git SHA1 | 33bc948f4b855c037975f16d16091fe4ecd12de3\n",
      "       Date/Time | 2022-10-10 14:28:24\n",
      "   MPI Processes | 1\n",
      "  OpenMP Threads | 8\n",
      "\n",
      " Reading settings XML file...\n",
      " Reading cross sections XML file...\n",
      " Reading materials XML file...\n",
      " Reading geometry XML file...\n",
      " Reading Pb204 from /root/nndc_hdf5/Pb204.h5\n",
      " Reading Pb206 from /root/nndc_hdf5/Pb206.h5\n",
      " Reading Pb207 from /root/nndc_hdf5/Pb207.h5\n",
      " Reading Pb208 from /root/nndc_hdf5/Pb208.h5\n",
      " Reading Al27 from /root/nndc_hdf5/Al27.h5\n",
      " Reading Cd106 from /root/nndc_hdf5/Cd106.h5\n",
      " WARNING: Negative value(s) found on probability table for nuclide Cd106 at 294K\n",
      " Reading Cd108 from /root/nndc_hdf5/Cd108.h5\n",
      " Reading Cd110 from /root/nndc_hdf5/Cd110.h5\n",
      " Reading Cd111 from /root/nndc_hdf5/Cd111.h5\n",
      " Reading Cd112 from /root/nndc_hdf5/Cd112.h5\n",
      " Reading Cd113 from /root/nndc_hdf5/Cd113.h5\n",
      " Reading Cd114 from /root/nndc_hdf5/Cd114.h5\n",
      " Reading Cd116 from /root/nndc_hdf5/Cd116.h5\n",
      " Reading B11 from /root/nndc_hdf5/B11.h5\n",
      " Reading B10 from /root/nndc_hdf5/B10.h5\n",
      " Reading F19 from /root/nndc_hdf5/F19.h5\n",
      " Reading C0 from /root/nndc_hdf5/C0.h5\n",
      " Reading H1 from /root/nndc_hdf5/H1.h5\n",
      " Reading H2 from /root/nndc_hdf5/H2.h5\n",
      " Reading c_H_in_CH2 from /root/nndc_hdf5/c_H_in_CH2.h5\n",
      " Minimum neutron data temperature: 294 K\n",
      " Maximum neutron data temperature: 294 K\n",
      " Reading tallies XML file...\n",
      " Preparing distributed cell instances...\n",
      " Reading plot XML file...\n",
      " Writing summary.h5 file...\n",
      " Maximum neutron transport energy: 20000000 eV for Cd106\n",
      "\n",
      " ===============>     FIXED SOURCE TRANSPORT SIMULATION     <===============\n",
      "\n",
      " Simulating batch 1\n",
      " Simulating batch 2\n",
      " Simulating batch 3\n",
      " Simulating batch 4\n",
      " Simulating batch 5\n",
      " Creating state point statepoint.5.h5...\n",
      "\n",
      " =======================>     TIMING STATISTICS     <=======================\n",
      "\n",
      " Total time for initialization     = 7.4838e-01 seconds\n",
      "   Reading cross sections          = 7.2896e-01 seconds\n",
      " Total time in simulation          = 7.0491e+00 seconds\n",
      "   Time in transport only          = 7.0439e+00 seconds\n",
      "   Time in active batches          = 7.0491e+00 seconds\n",
      "   Time accumulating tallies       = 8.3100e-05 seconds\n",
      "   Time writing statepoints        = 3.9662e-03 seconds\n",
      " Total time for finalization       = 3.4680e-04 seconds\n",
      " Total time elapsed                = 7.8015e+00 seconds\n",
      " Calculation Rate (active)         = 709309 particles/second\n",
      "\n",
      " ============================>     RESULTS     <============================\n",
      "\n",
      " Leakage Fraction            = 0.99998 +/- 0.00000\n",
      "\n"
     ]
    }
   ],
   "source": [
    "    sett = sett_func(energies[0])\n",
    "    model = openmc.model.Model(geometry, materials, sett, tallies)\n",
    "    !rm *.h5\n",
    "    results_filename = model.run()\n",
    "    results = openmc.StatePoint(results_filename)\n",
    "    n_alpha_tally = results.get_tally(name=\"detector_n_alpha_tally\")\n",
    "    flux_tally = results.get_tally(name=\"detector_tally\")"
   ]
  },
  {
   "cell_type": "code",
   "execution_count": 31,
   "id": "1c7cf6b0-084d-4563-a426-185b1bee308d",
   "metadata": {},
   "outputs": [
    {
     "data": {
      "text/plain": [
       "array([2.87964055e-10])"
      ]
     },
     "execution_count": 31,
     "metadata": {},
     "output_type": "execute_result"
    }
   ],
   "source": [
    "std =  n_alpha_tally.std_dev.ravel()\n",
    "std"
   ]
  },
  {
   "cell_type": "code",
   "execution_count": 42,
   "id": "63768cd0-5ebe-404f-8914-e69ea6a52667",
   "metadata": {},
   "outputs": [
    {
     "name": "stdout",
     "output_type": "stream",
     "text": [
      "[1.00000000e-03 8.11130831e-03 6.57933225e-02 5.33669923e-01\n",
      " 4.32876128e+00 3.51119173e+01 2.84803587e+02 2.31012970e+03\n",
      " 1.87381742e+04 1.51991108e+05 1.23284674e+06 1.00000000e+07]\n",
      "[2.9355243480710202e-06, 1.2985102141463977e-06, 5.307196072217338e-07, 3.859990700557421e-07, 1.6818681832213592e-07, 6.165568014421874e-08, 2.1846899313258726e-08, 7.691182047424476e-09, 2.6180211596621123e-09, 9.46674387198275e-10, 1.2412381351955494e-10, 3.033869627227456e-11]\n"
     ]
    },
    {
     "data": {
      "image/png": "[encoded data removed]",
      "text/plain": [
       "<Figure size 640x480 with 1 Axes>"
      ]
     },
     "metadata": {},
     "output_type": "display_data"
    }
   ],
   "source": [
    "\n",
    "norm_counts = np.concatenate(nalpha_mean).tolist()\n",
    "print(energies)\n",
    "print(norm_counts)\n",
    "type(norm_counts)\n",
    "plt.loglog(energies/10**6, norm_counts, color='r')\n",
    "plt.ylabel(r'(n, $\\alpha $) reaction rate per particle')\n",
    "plt.xlabel(\"Energy (MeV)\")\n",
    "plt.show()\n",
    "\n"
   ]
  },
  {
   "cell_type": "code",
   "execution_count": null,
   "id": "88f83cf9-ca9c-4fe9-8e66-56395efa0edf",
   "metadata": {},
   "outputs": [],
   "source": []
  }
 ],
 "metadata": {
  "kernelspec": {
   "display_name": "Python 3 (ipykernel)",
   "language": "python",
   "name": "python3"
  },
  "language_info": {
   "codemirror_mode": {
    "name": "ipython",
    "version": 3
   },
   "file_extension": ".py",
   "mimetype": "text/x-python",
   "name": "python",
   "nbconvert_exporter": "python",
   "pygments_lexer": "ipython3",
   "version": "3.9.2"
  }
 },
 "nbformat": 4,
 "nbformat_minor": 5
}
