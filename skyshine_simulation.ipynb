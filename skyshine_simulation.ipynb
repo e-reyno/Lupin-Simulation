{
 "cells": [
  {
   "cell_type": "code",
   "execution_count": 1,
   "id": "82314a05-1d26-4425-88a8-05859d03eb3c",
   "metadata": {},
   "outputs": [],
   "source": [
    "import openmc\n",
    "import numpy as np\n",
    "import neutronics_material_maker as nmm"
   ]
  },
  {
   "cell_type": "code",
   "execution_count": 2,
   "id": "47ef1197-4a5f-486e-9947-0b6385d855c6",
   "metadata": {},
   "outputs": [],
   "source": [
    "#materials\n",
    "#air\n",
    "air = openmc.Material(name='air')\n",
    "air.add_element(\"O\",0.210748,'ao')\n",
    "air.add_element(\"N\",0.784431,'ao')\n",
    "air.add_element(\"Ar\",0.004671,'ao')\n",
    "air.add_element(\"C\", 0.00015,'ao')\n",
    "air.set_density(\"g/cm3\", 0.001205)\n",
    "\n",
    "#ground surface - concrete\n",
    "ground_material = nmm.Material.from_library(\"concrete_ordinary\").openmc_material\n"
   ]
  },
  {
   "cell_type": "code",
   "execution_count": 7,
   "id": "8189cc7c-74d7-4a52-8f11-170282934221",
   "metadata": {},
   "outputs": [
    {
     "ename": "TypeError",
     "evalue": "Unable to set \"UniverseBase ID\" to \"[Cell\n\tID             =\t9\n\tName           =\t\n\tFill           =\tMaterial 1\n\tRegion         =\t(39 -40 41 -42 43 -44)\n\tRotation       =\tNone\n\tTemperature    =\tNone\n\tTranslation    =\tNone\n\tVolume         =\tNone\n]\" which is not of type \"Integral\"",
     "output_type": "error",
     "traceback": [
      "\u001b[0;31m---------------------------------------------------------------------------\u001b[0m",
      "\u001b[0;31mTypeError\u001b[0m                                 Traceback (most recent call last)",
      "Cell \u001b[0;32mIn [7], line 13\u001b[0m\n\u001b[1;32m     10\u001b[0m air_region \u001b[38;5;241m=\u001b[39m \u001b[38;5;241m+\u001b[39mxmin \u001b[38;5;241m&\u001b[39m \u001b[38;5;241m-\u001b[39mxmax \u001b[38;5;241m&\u001b[39m \u001b[38;5;241m+\u001b[39mymin \u001b[38;5;241m&\u001b[39m \u001b[38;5;241m-\u001b[39mymax \u001b[38;5;241m&\u001b[39m \u001b[38;5;241m+\u001b[39mzmin \u001b[38;5;241m&\u001b[39m \u001b[38;5;241m-\u001b[39mzmax\n\u001b[1;32m     11\u001b[0m air_cell \u001b[38;5;241m=\u001b[39m openmc\u001b[38;5;241m.\u001b[39mCell(region\u001b[38;5;241m=\u001b[39mair_region, fill\u001b[38;5;241m=\u001b[39mair)\n\u001b[0;32m---> 13\u001b[0m universe \u001b[38;5;241m=\u001b[39m \u001b[43mopenmc\u001b[49m\u001b[38;5;241;43m.\u001b[39;49m\u001b[43mUniverse\u001b[49m\u001b[43m(\u001b[49m\u001b[43m[\u001b[49m\u001b[43mair_cell\u001b[49m\u001b[43m]\u001b[49m\u001b[43m)\u001b[49m\n\u001b[1;32m     14\u001b[0m color_assignment \u001b[38;5;241m=\u001b[39m {void_cell: \u001b[38;5;124m'\u001b[39m\u001b[38;5;124mblue\u001b[39m\u001b[38;5;124m'\u001b[39m, ground_cell: \u001b[38;5;124m'\u001b[39m\u001b[38;5;124mred\u001b[39m\u001b[38;5;124m'\u001b[39m, air:\u001b[38;5;124m'\u001b[39m\u001b[38;5;124mpurple\u001b[39m\u001b[38;5;124m'\u001b[39m}\n\u001b[1;32m     15\u001b[0m plt\u001b[38;5;241m.\u001b[39mshow(universe\u001b[38;5;241m.\u001b[39mplot(width\u001b[38;5;241m=\u001b[39m(\u001b[38;5;241m1200\u001b[39m, \u001b[38;5;241m1200\u001b[39m), basis\u001b[38;5;241m=\u001b[39m\u001b[38;5;124m'\u001b[39m\u001b[38;5;124mxz\u001b[39m\u001b[38;5;124m'\u001b[39m, colors\u001b[38;5;241m=\u001b[39mcolor_assignment))\n",
      "File \u001b[0;32m/usr/local/lib/python3.9/dist-packages/openmc/universe.py:189\u001b[0m, in \u001b[0;36mUniverse.__init__\u001b[0;34m(self, universe_id, name, cells)\u001b[0m\n\u001b[1;32m    188\u001b[0m \u001b[38;5;28;01mdef\u001b[39;00m \u001b[38;5;21m__init__\u001b[39m(\u001b[38;5;28mself\u001b[39m, universe_id\u001b[38;5;241m=\u001b[39m\u001b[38;5;28;01mNone\u001b[39;00m, name\u001b[38;5;241m=\u001b[39m\u001b[38;5;124m'\u001b[39m\u001b[38;5;124m'\u001b[39m, cells\u001b[38;5;241m=\u001b[39m\u001b[38;5;28;01mNone\u001b[39;00m):\n\u001b[0;32m--> 189\u001b[0m     \u001b[38;5;28;43msuper\u001b[39;49m\u001b[43m(\u001b[49m\u001b[43m)\u001b[49m\u001b[38;5;241;43m.\u001b[39;49m\u001b[38;5;21;43m__init__\u001b[39;49m\u001b[43m(\u001b[49m\u001b[43muniverse_id\u001b[49m\u001b[43m,\u001b[49m\u001b[43m \u001b[49m\u001b[43mname\u001b[49m\u001b[43m)\u001b[49m\n\u001b[1;32m    191\u001b[0m     \u001b[38;5;28;01mif\u001b[39;00m cells \u001b[38;5;129;01mis\u001b[39;00m \u001b[38;5;129;01mnot\u001b[39;00m \u001b[38;5;28;01mNone\u001b[39;00m:\n\u001b[1;32m    192\u001b[0m         \u001b[38;5;28mself\u001b[39m\u001b[38;5;241m.\u001b[39madd_cells(cells)\n",
      "File \u001b[0;32m/usr/local/lib/python3.9/dist-packages/openmc/universe.py:39\u001b[0m, in \u001b[0;36mUniverseBase.__init__\u001b[0;34m(self, universe_id, name)\u001b[0m\n\u001b[1;32m     37\u001b[0m \u001b[38;5;28;01mdef\u001b[39;00m \u001b[38;5;21m__init__\u001b[39m(\u001b[38;5;28mself\u001b[39m, universe_id\u001b[38;5;241m=\u001b[39m\u001b[38;5;28;01mNone\u001b[39;00m, name\u001b[38;5;241m=\u001b[39m\u001b[38;5;124m'\u001b[39m\u001b[38;5;124m'\u001b[39m):\n\u001b[1;32m     38\u001b[0m     \u001b[38;5;66;03m# Initialize Universe class attributes\u001b[39;00m\n\u001b[0;32m---> 39\u001b[0m     \u001b[38;5;28;43mself\u001b[39;49m\u001b[38;5;241;43m.\u001b[39;49m\u001b[43mid\u001b[49m \u001b[38;5;241m=\u001b[39m universe_id\n\u001b[1;32m     40\u001b[0m     \u001b[38;5;28mself\u001b[39m\u001b[38;5;241m.\u001b[39mname \u001b[38;5;241m=\u001b[39m name\n\u001b[1;32m     41\u001b[0m     \u001b[38;5;28mself\u001b[39m\u001b[38;5;241m.\u001b[39m_volume \u001b[38;5;241m=\u001b[39m \u001b[38;5;28;01mNone\u001b[39;00m\n",
      "File \u001b[0;32m/usr/local/lib/python3.9/dist-packages/openmc/mixin.py:66\u001b[0m, in \u001b[0;36mIDManagerMixin.id\u001b[0;34m(self, uid)\u001b[0m\n\u001b[1;32m     64\u001b[0m \u001b[38;5;28;01melse\u001b[39;00m:\n\u001b[1;32m     65\u001b[0m     name \u001b[38;5;241m=\u001b[39m \u001b[38;5;28mcls\u001b[39m\u001b[38;5;241m.\u001b[39m\u001b[38;5;18m__name__\u001b[39m\n\u001b[0;32m---> 66\u001b[0m     \u001b[43mcv\u001b[49m\u001b[38;5;241;43m.\u001b[39;49m\u001b[43mcheck_type\u001b[49m\u001b[43m(\u001b[49m\u001b[38;5;124;43mf\u001b[39;49m\u001b[38;5;124;43m'\u001b[39;49m\u001b[38;5;132;43;01m{\u001b[39;49;00m\u001b[43mname\u001b[49m\u001b[38;5;132;43;01m}\u001b[39;49;00m\u001b[38;5;124;43m ID\u001b[39;49m\u001b[38;5;124;43m'\u001b[39;49m\u001b[43m,\u001b[49m\u001b[43m \u001b[49m\u001b[43muid\u001b[49m\u001b[43m,\u001b[49m\u001b[43m \u001b[49m\u001b[43mIntegral\u001b[49m\u001b[43m)\u001b[49m\n\u001b[1;32m     67\u001b[0m     cv\u001b[38;5;241m.\u001b[39mcheck_greater_than(\u001b[38;5;124mf\u001b[39m\u001b[38;5;124m'\u001b[39m\u001b[38;5;132;01m{\u001b[39;00mname\u001b[38;5;132;01m}\u001b[39;00m\u001b[38;5;124m ID\u001b[39m\u001b[38;5;124m'\u001b[39m, uid, \u001b[38;5;241m0\u001b[39m, equality\u001b[38;5;241m=\u001b[39m\u001b[38;5;28;01mTrue\u001b[39;00m)\n\u001b[1;32m     68\u001b[0m     \u001b[38;5;28;01mif\u001b[39;00m uid \u001b[38;5;129;01min\u001b[39;00m \u001b[38;5;28mcls\u001b[39m\u001b[38;5;241m.\u001b[39mused_ids:\n",
      "File \u001b[0;32m/usr/local/lib/python3.9/dist-packages/openmc/checkvalue.py:37\u001b[0m, in \u001b[0;36mcheck_type\u001b[0;34m(name, value, expected_type, expected_iter_type, none_ok)\u001b[0m\n\u001b[1;32m     34\u001b[0m     \u001b[38;5;28;01melse\u001b[39;00m:\n\u001b[1;32m     35\u001b[0m         msg \u001b[38;5;241m=\u001b[39m (\u001b[38;5;124mf\u001b[39m\u001b[38;5;124m'\u001b[39m\u001b[38;5;124mUnable to set \u001b[39m\u001b[38;5;124m\"\u001b[39m\u001b[38;5;132;01m{\u001b[39;00mname\u001b[38;5;132;01m}\u001b[39;00m\u001b[38;5;124m\"\u001b[39m\u001b[38;5;124m to \u001b[39m\u001b[38;5;124m\"\u001b[39m\u001b[38;5;132;01m{\u001b[39;00mvalue\u001b[38;5;132;01m}\u001b[39;00m\u001b[38;5;124m\"\u001b[39m\u001b[38;5;124m which is not of type \u001b[39m\u001b[38;5;124m\"\u001b[39m\u001b[38;5;124m'\u001b[39m\n\u001b[1;32m     36\u001b[0m                \u001b[38;5;124mf\u001b[39m\u001b[38;5;124m'\u001b[39m\u001b[38;5;132;01m{\u001b[39;00mexpected_type\u001b[38;5;241m.\u001b[39m\u001b[38;5;18m__name__\u001b[39m\u001b[38;5;132;01m}\u001b[39;00m\u001b[38;5;124m\"\u001b[39m\u001b[38;5;124m'\u001b[39m)\n\u001b[0;32m---> 37\u001b[0m     \u001b[38;5;28;01mraise\u001b[39;00m \u001b[38;5;167;01mTypeError\u001b[39;00m(msg)\n\u001b[1;32m     39\u001b[0m \u001b[38;5;28;01mif\u001b[39;00m expected_iter_type:\n\u001b[1;32m     40\u001b[0m     \u001b[38;5;28;01mif\u001b[39;00m \u001b[38;5;28misinstance\u001b[39m(value, np\u001b[38;5;241m.\u001b[39mndarray):\n",
      "\u001b[0;31mTypeError\u001b[0m: Unable to set \"UniverseBase ID\" to \"[Cell\n\tID             =\t9\n\tName           =\t\n\tFill           =\tMaterial 1\n\tRegion         =\t(39 -40 41 -42 43 -44)\n\tRotation       =\tNone\n\tTemperature    =\tNone\n\tTranslation    =\tNone\n\tVolume         =\tNone\n]\" which is not of type \"Integral\""
     ]
    }
   ],
   "source": [
    "#ground surface\n",
    "\n",
    "xmin = openmc.XPlane(-1000, boundary_type='vacuum')\n",
    "xmax = openmc.XPlane(1000, boundary_type='vacuum')\n",
    "ymin = openmc.YPlane(-1000, boundary_type='vacuum')\n",
    "ymax = openmc.YPlane(1000, boundary_type='vacuum')\n",
    "zmin = openmc.ZPlane(-100000, boundary_type='vacuum')\n",
    "zmax = openmc.ZPlane(100000, boundary_type='vacuum')\n",
    "\n",
    "air_region = +xmin & -xmax & +ymin & -ymax & +zmin & -zmax\n",
    "air_cell = openmc.Cell(region=air_region, fill=air)\n",
    "\n",
    "universe = openmc.Universe([air_cell])\n",
    "color_assignment = {void_cell: 'blue', ground_cell: 'red', air:'purple'}\n",
    "plt.show(universe.plot(width=(1200, 1200), basis='xz', colors=color_assignment))\n",
    "plt.show(universe.plot(width=(1200, 1200), basis='xy', colors=color_assignment))\n",
    "plt.show(universe.plot(width=(1200, 1200), basis='yz', colors=color_assignment))"
   ]
  },
  {
   "cell_type": "code",
   "execution_count": null,
   "id": "3cc3722d-5f97-4d8c-88e1-0b006eb90d80",
   "metadata": {},
   "outputs": [],
   "source": [
    "air = openmc.model.rectangular_prism("
   ]
  }
 ],
 "metadata": {
  "kernelspec": {
   "display_name": "Python 3 (ipykernel)",
   "language": "python",
   "name": "python3"
  },
  "language_info": {
   "codemirror_mode": {
    "name": "ipython",
    "version": 3
   },
   "file_extension": ".py",
   "mimetype": "text/x-python",
   "name": "python",
   "nbconvert_exporter": "python",
   "pygments_lexer": "ipython3",
   "version": "3.9.2"
  }
 },
 "nbformat": 4,
 "nbformat_minor": 5
}
